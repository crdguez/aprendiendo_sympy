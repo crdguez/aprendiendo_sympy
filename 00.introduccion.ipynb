{
 "cells": [
  {
   "cell_type": "markdown",
   "metadata": {},
   "source": [
    "# Aprendiendo SymPy\n",
    "\n",
    "\n",
    "Aprendiendo SymPy es una colección de jupyter notebooks explicando cómo usar SymPy para resolver algunos de los tipos de ejercicios que aparecen en la enseñanza de las matemáticas en educación secundaria.\n",
    "\n",
    "SymPy es una librería de Python para matemáticas simbólica.\n",
    "\n",
    "\n",
    "\n",
    "[Inecuaciones](./inecuaciones.ipynb)"
   ]
  }
 ],
 "metadata": {
  "kernelspec": {
   "display_name": "Python 3",
   "language": "python",
   "name": "python3"
  },
  "language_info": {
   "codemirror_mode": {
    "name": "ipython",
    "version": 3
   },
   "file_extension": ".py",
   "mimetype": "text/x-python",
   "name": "python",
   "nbconvert_exporter": "python",
   "pygments_lexer": "ipython3",
   "version": "3.6.5"
  }
 },
 "nbformat": 4,
 "nbformat_minor": 2
}
