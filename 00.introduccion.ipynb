{
 "cells": [
  {
   "cell_type": "markdown",
   "metadata": {},
   "source": [
    "# [Aprendiendo SymPy](https://nbviewer.jupyter.org/github/crdguez/aprendiendo_sympy/blob/master/00.introduccion.ipynb)\n",
    "\n",
    "\n",
    "Aprendiendo [SymPy](https://www.sympy.org/es/) es una colección de jupyter notebooks explicando cómo usar SymPy para resolver algunos de los tipos de ejercicios que aparecen en la enseñanza de las matemáticas en educación secundaria.\n",
    "\n",
    "SymPy es una librería de Python para matemática simbólica. La documentación oficial la tienes en [SymPy Docs](https://docs.sympy.org/latest/index.html).  Yo solo reorganizo lo que he ido probando, y que igual a otra persona le sirve:\n",
    "\n",
    "\n",
    "## Índice de contenidos:\n",
    "\n",
    "* [Instalación y uso](01.instalacion.ipynb)\n",
    "* Matemáticas con Sympy\n",
    "    * [Inecuaciones](inecuaciones.ipynb)\n",
    "    * [Geometría](geometria.ipynb)\n",
    "    * [Trigonometría](trigonometria.ipynb)\n",
    "    * [Tips](tips.ipynb)\n",
    "\n"
   ]
  }
 ],
 "metadata": {
  "kernelspec": {
   "display_name": "Python 3",
   "language": "python",
   "name": "python3"
  },
  "language_info": {
   "codemirror_mode": {
    "name": "ipython",
    "version": 3
   },
   "file_extension": ".py",
   "mimetype": "text/x-python",
   "name": "python",
   "nbconvert_exporter": "python",
   "pygments_lexer": "ipython3",
   "version": "3.6.5"
  }
 },
 "nbformat": 4,
 "nbformat_minor": 2
}
