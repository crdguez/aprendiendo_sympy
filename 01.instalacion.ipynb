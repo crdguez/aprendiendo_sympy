{
 "cells": [
  {
   "cell_type": "markdown",
   "metadata": {},
   "source": [
    "# Instalación y uso\n",
    "\n",
    "Como **SymPy** es una librería de **Python** que además depende de otras, la instalación manual puede resultar tediosa. Por ello, se recomienda hacerlo mediante un paquete que nos instala todo automáticamente.  Sin embargo, podemos probar como funciona SymPy sin instalar nada:\n",
    "\n",
    "## La opción más fácil: SymPy-Gamma  \n",
    "\n",
    "SymPy Gamma es una interfaz web que implementa un intérprete de Python con un paquete de funciones básicas de la librería SymPy. Por tanto, no tendremos acceso a todo el potencial de SymPy aunque la mayoría de las veces será suficiente.  Desde un navegador accedemos a [https://gamma.sympy.org/](https://gamma.sympy.org/)\n",
    "\n",
    "<img src=\"./img/sympygamma.png\" width=\"600%\">\n",
    "\n",
    "Si nos fijamos, aparece un barra para introducir la instrucción a ejecutar, junto con un \"=\" que lo ejecutará.\n",
    "\n",
    "Los ejemplo vienen agrupados en categorías. Si \"desplegamos\" cualquier ejemplo, veremos el código SymPy correspondiente. Observa que además son enlaces, si pinchas sobre el enlace te copia automáticamente el código en la barra y la ejecuta. De esta manera podemos ir aprendiendo cómo funciona.\n",
    "\n",
    "**Ejemplo:** Vamos a resolver una ecuación sencilla. \t\n",
    "\n",
    "$$ x^2-1=0 $$\n",
    "\n",
    "En SymPy existe una función llamada *solve()* que me permite resolver ecuaciones. Para facilitar las cosas, *solve* sobreentiende que si no le decimos nada tiene que resolver una ecuación del tipo *expr(x)=0*. Para hacerlo debemos excribir *solve(expr(x))*. En nuestro caso la *exp* será *x**2-1* (para elevar se utiliza la notación **)"
   ]
  },
  {
   "cell_type": "code",
   "execution_count": null,
   "metadata": {},
   "outputs": [],
   "source": [
    "solve(x**2-1)"
   ]
  },
  {
   "cell_type": "markdown",
   "metadata": {},
   "source": [
    "<img src=\"./img/sympygamma_ec1.gif\" width=\"600%\">\n",
    "\n",
    "## Instalación en local de SymPy\n",
    "\n",
    "Si finalmente decidimos instalar SymPy en nuestro ordenador existen varias formas, pero la más recomendada es mediante la distribución [Anaconda](https://www.anaconda.com/download/):\n",
    "\n",
    "<img src=\"./img/anaconda.png\" width=\"600%\">\n",
    "\n",
    "En función del sistema operativo descargará un ejecutable u otro. En cualquier caso, el ejecutable es un script para instalar librerías y programas de Python para Data Science, entre los que se encuentra SymP.\n",
    "\n",
    "Por ejemplo en GNU-Linux ejecutaremos el instalador:"
   ]
  },
  {
   "cell_type": "code",
   "execution_count": null,
   "metadata": {},
   "outputs": [],
   "source": [
    "$ sh Anaconda3-2018.12-Linux-x86.sh"
   ]
  },
  {
   "cell_type": "markdown",
   "metadata": {},
   "source": [
    "Al ejecutarlo nos pedirá, en primer lugar, que aceptemos la licencia:\n",
    "\n",
    "<img src=\"./img/anaconda_1.png\" width=\"80%\">\n",
    "\n",
    "Con la barra espaciadora podremos ir pasando las páginas de la licencia hasta llegar al final que nos pedirá aceptarla. Para ello deberemos escibir yes:\n",
    "\n",
    "<img src=\"./img/anaconda_2.png\" width=\"40%\">\n",
    "\n",
    "El resto de opciones, se pueden modificar o dejarlas por defecto pulsando ENTER.\n",
    "\n",
    "## Ya tenemos instalado SymPy, ¿cómo sigo?\n",
    "\n",
    "Desde cualquier programa de Python o entorno de Python podemos importar las librerías de SymPy que necesitemos:\n",
    "\n",
    "Yo recomiendo por línea de comandos iSymPy y desde el navegador los Jupyter Notebooks"
   ]
  }
 ],
 "metadata": {},
 "nbformat": 4,
 "nbformat_minor": 2
}
