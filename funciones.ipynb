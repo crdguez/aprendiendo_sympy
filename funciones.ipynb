{
 "cells": [
  {
   "cell_type": "markdown",
   "metadata": {
    "colab_type": "text",
    "id": "view-in-github"
   },
   "source": [
    "<a href=\"https://colab.research.google.com/github/crdguez/aprendiendo_sympy/blob/master/funciones.ipynb\" target=\"_parent\"><img src=\"https://colab.research.google.com/assets/colab-badge.svg\" alt=\"Open In Colab\"/></a>"
   ]
  },
  {
   "cell_type": "markdown",
   "metadata": {
    "colab_type": "text",
    "id": "eXD1EwuLRgio"
   },
   "source": [
    "Si usas [https://colab.research.google.com/](https://colab.research.google.com/), necesitarás instalar los siguientes paquetes si quieres usar la función *parse_latex* que sirve para introducir expresiones directamente en $ \\LaTeX $:"
   ]
  },
  {
   "cell_type": "code",
   "execution_count": 1,
   "metadata": {
    "colab": {
     "base_uri": "https://localhost:8080/",
     "height": 268
    },
    "colab_type": "code",
    "id": "9I4mcvxARgiz",
    "outputId": "132eba9c-3dd1-4586-8f06-97e77e5abb9e"
   },
   "outputs": [],
   "source": [
    "# Descomentar si se quiere usar:\n",
    "# !pip install sympy==1.3 antlr4-python3-runtime"
   ]
  },
  {
   "cell_type": "markdown",
   "metadata": {
    "colab_type": "text",
    "id": "j8BLxT72aKUF"
   },
   "source": [
    "Lo primero que necesitamos hacer es importar la librerias de *Python* que necesitaremos"
   ]
  },
  {
   "cell_type": "code",
   "execution_count": 1,
   "metadata": {
    "colab": {},
    "colab_type": "code",
    "id": "iW7rNRG2PMFC"
   },
   "outputs": [],
   "source": [
    "from sympy import *\n",
    "from IPython.display import Markdown as md\n",
    "from IPython.display import display\n",
    "from sympy.parsing.latex import parse_latex\n",
    "\n",
    "import numpy as np\n",
    "\n",
    "\n",
    "from __future__ import division\n",
    "from sympy import *\n",
    "x, y, z, t = symbols('x y z t')\n",
    "k, m, n = symbols('k m n', integer=True)\n",
    "f, g, h = symbols('f g h', cls=Function)\n",
    "#init_printing(use_latex=False)"
   ]
  },
  {
   "cell_type": "markdown",
   "metadata": {},
   "source": [
    "Para poder representar funciones necesitamos usar la librería *matplotlitb* y las funciones correspondientes de *sympy*"
   ]
  },
  {
   "cell_type": "code",
   "execution_count": 2,
   "metadata": {},
   "outputs": [],
   "source": [
    "import matplotlib.pyplot as plt\n",
    "%matplotlib inline\n",
    "\n",
    "from sympy.plotting import plot, plot_implicit"
   ]
  },
  {
   "cell_type": "markdown",
   "metadata": {},
   "source": [
    "## Representación de funciones\n",
    "\n",
    "En *sympy* existe el módulo *plot* \n",
    "\n",
    "**Ejemplos:**\n",
    "\n",
    "* $f(x) = x^2$"
   ]
  },
  {
   "cell_type": "code",
   "execution_count": 9,
   "metadata": {},
   "outputs": [
    {
     "name": "stdout",
     "output_type": "stream",
     "text": [
      "IPython console for SymPy 1.2 (Python 3.6.8-64-bit) (ground types: gmpy)\n",
      "\n",
      "These commands were executed:\n",
      ">>> from __future__ import division\n",
      ">>> from sympy import *\n",
      ">>> x, y, z, t = symbols('x y z t')\n",
      ">>> k, m, n = symbols('k m n', integer=True)\n",
      ">>> f, g, h = symbols('f g h', cls=Function)\n",
      ">>> init_printing()\n",
      "\n",
      "Documentation can be found at http://docs.sympy.org/1.2/\n",
      "\n"
     ]
    },
    {
     "data": {
      "image/png": "[encoded data removed]",
      "text/latex": [
       "$$\\left ( -11.0, \\quad 10.999999999999998, \\quad -4.999989417605339, \\quad 104.99999949607644\\right )$$"
      ],
      "text/plain": [
       "(-11.0, 10.999999999999998, -4.999989417605339, 104.99999949607644)"
      ]
     },
     "execution_count": 9,
     "metadata": {},
     "output_type": "execute_result"
    },
    {
     "data": {
      "image/png": "[encoded data removed]",
      "text/plain": [
       "<Figure size 432x288 with 1 Axes>"
      ]
     },
     "metadata": {},
     "output_type": "display_data"
    }
   ],
   "source": [
    "%matplotlib inline\n",
    "\n",
    "init_session()\n",
    "#%matplotlib inline\n",
    "p1 = plot(x*x)\n",
    "plt.axis('equal')\n"
   ]
  },
  {
   "cell_type": "markdown",
   "metadata": {},
   "source": [
    "Podemos graficar funciones a trozos:\n",
    "\n",
    "* $f(x) =\n",
    "\\left\\{\n",
    "\t\\begin{array}{clc}\n",
    "\t\t4  & \\mbox{si } & x < -2 \\\\\n",
    "\t\t-x^2 & \\mbox{si } & -2 \\leq x < 4 \\\\\n",
    "\t\t2x-3 & \\mbox{si } & x \\geq 4\n",
    "\t\\end{array}\n",
    "\\right. $"
   ]
  },
  {
   "cell_type": "code",
   "execution_count": 17,
   "metadata": {},
   "outputs": [
    {
     "name": "stdout",
     "output_type": "stream",
     "text": [
      "IPython console for SymPy 1.2 (Python 3.6.8-64-bit) (ground types: gmpy)\n",
      "\n",
      "These commands were executed:\n",
      ">>> from __future__ import division\n",
      ">>> from sympy import *\n",
      ">>> x, y, z, t = symbols('x y z t')\n",
      ">>> k, m, n = symbols('k m n', integer=True)\n",
      ">>> f, g, h = symbols('f g h', cls=Function)\n",
      ">>> init_printing()\n",
      "\n",
      "Documentation can be found at http://docs.sympy.org/1.2/\n",
      "\n"
     ]
    },
    {
     "data": {
      "image/png": "[encoded data removed]",
      "text/plain": [
       "<Figure size 432x288 with 1 Axes>"
      ]
     },
     "metadata": {},
     "output_type": "display_data"
    }
   ],
   "source": [
    "%matplotlib inline\n",
    "\n",
    "init_session()\n",
    "\n",
    "plot((4,(x,-10,-2)),(-x**2,(x,-2,4)),(2*x-3,(x,4,6)))\n",
    "plt.axis('equal')\n",
    "plt.grid(True)\n"
   ]
  },
  {
   "cell_type": "markdown",
   "metadata": {},
   "source": [
    "Para definir una función a trozos podemos usar la función *Piecewise*"
   ]
  },
  {
   "cell_type": "code",
   "execution_count": 7,
   "metadata": {},
   "outputs": [
    {
     "data": {
      "text/latex": [
       "$$\\begin{cases} x^{2} & \\text{for}\\: x < 1 \\\\2 x & \\text{otherwise} \\end{cases}$$"
      ],
      "text/plain": [
       "⎧ 2            \n",
       "⎪x    for x < 1\n",
       "⎨              \n",
       "⎪2⋅x  otherwise\n",
       "⎩              "
      ]
     },
     "execution_count": 7,
     "metadata": {},
     "output_type": "execute_result"
    }
   ],
   "source": [
    "from sympy import Piecewise\n",
    "\n",
    "f = x**2\n",
    "g = 2*x\n",
    "h = Piecewise((f,x<1),(g,x>=1))\n",
    "h\n",
    "\n",
    "#plot(h)"
   ]
  },
  {
   "cell_type": "code",
   "execution_count": 8,
   "metadata": {},
   "outputs": [
    {
     "data": {
      "text/plain": [
       "<sympy.plotting.plot.Plot at 0x7fcd1c0114a8>"
      ]
     },
     "execution_count": 8,
     "metadata": {},
     "output_type": "execute_result"
    },
    {
     "data": {
      "image/png": "[encoded data removed]",
      "text/plain": [
       "<Figure size 432x288 with 1 Axes>"
      ]
     },
     "metadata": {},
     "output_type": "display_data"
    }
   ],
   "source": [
    "plot(h)"
   ]
  },
  {
   "cell_type": "code",
   "execution_count": 23,
   "metadata": {},
   "outputs": [
    {
     "data": {
      "image/png": "[encoded data removed]",
      "text/plain": [
       "<Figure size 432x288 with 1 Axes>"
      ]
     },
     "metadata": {},
     "output_type": "display_data"
    }
   ],
   "source": [
    "fig = plot(h)\n",
    "fig.save('a_ver.pgf')"
   ]
  },
  {
   "cell_type": "code",
   "execution_count": 111,
   "metadata": {},
   "outputs": [
    {
     "data": {
      "text/latex": [
       "$$\\begin{cases} \\cos{\\left (x \\right )} & \\text{for}\\: x < 0 \\\\2 x^{2} + 1 & \\text{for}\\: x \\leq 1 \\wedge x > 0 \\\\\\frac{3}{x} & \\text{otherwise} \\end{cases}$$"
      ],
      "text/plain": [
       "⎧ cos(x)       for x < 0    \n",
       "⎪                           \n",
       "⎪   2                       \n",
       "⎪2⋅x  + 1  for x ≤ 1 ∧ x > 0\n",
       "⎨                           \n",
       "⎪   3                       \n",
       "⎪   ─          otherwise    \n",
       "⎪   x                       \n",
       "⎩                           "
      ]
     },
     "execution_count": 111,
     "metadata": {},
     "output_type": "execute_result"
    }
   ],
   "source": [
    "a = 1\n",
    "h=Piecewise((cos(x),(x<0)),(a+2*x**2,And(x>0,x<=1)),(3/x,True))\n",
    "#h = cos(x)\n",
    "#h\n",
    "#singularities(h,x)\n",
    "h"
   ]
  },
  {
   "cell_type": "code",
   "execution_count": 122,
   "metadata": {},
   "outputs": [
    {
     "data": {
      "text/latex": [
       "$$\\begin{cases} 2 & \\text{for}\\: x < 0 \\\\3 & \\text{otherwise} \\end{cases} < y$$"
      ],
      "text/plain": [
       "⎧2  for x < 0    \n",
       "⎨             < y\n",
       "⎩3  otherwise    "
      ]
     },
     "execution_count": 122,
     "metadata": {},
     "output_type": "execute_result"
    }
   ],
   "source": [
    "cond = (x < y).subs(x, Piecewise((2, x < 0), (3, True))); cond"
   ]
  },
  {
   "cell_type": "code",
   "execution_count": 125,
   "metadata": {},
   "outputs": [
    {
     "data": {
      "text/latex": [
       "$$\\begin{cases} 2 < y & \\text{for}\\: x < 0 \\\\3 < y & \\text{otherwise} \\end{cases}$$"
      ],
      "text/plain": [
       "⎧2 < y  for x < 0\n",
       "⎨                \n",
       "⎩3 < y  otherwise"
      ]
     },
     "execution_count": 125,
     "metadata": {},
     "output_type": "execute_result"
    }
   ],
   "source": [
    "folded_cond = piecewise_fold(cond); folded_cond\n"
   ]
  },
  {
   "cell_type": "markdown",
   "metadata": {
    "colab_type": "text",
    "id": "xm6t0kBoh6Rc"
   },
   "source": [
    "## Referencias\n",
    "\n",
    "\n",
    " *   [Documentación de SymPy](https://docs.sympy.org/latest/index.html#)\n"
   ]
  },
  {
   "cell_type": "code",
   "execution_count": 5,
   "metadata": {
    "colab": {},
    "colab_type": "code",
    "id": "xEAgD1TObj74"
   },
   "outputs": [
    {
     "name": "stdout",
     "output_type": "stream",
     "text": [
      "[NbConvertApp] Converting notebook geometria.ipynb to markdown\n",
      "[NbConvertApp] Support files will be in geometria_files/\n",
      "[NbConvertApp] Making directory geometria_files\n",
      "[NbConvertApp] Writing 3162 bytes to geometria.md\n"
     ]
    }
   ],
   "source": [
    "!jupyter nbconvert geometria.ipynb --to=markdown"
   ]
  }
 ],
 "metadata": {
  "colab": {
   "collapsed_sections": [],
   "include_colab_link": true,
   "name": "inecuaciones.ipynb",
   "provenance": [],
   "version": "0.3.2"
  },
  "kernelspec": {
   "display_name": "Python 3",
   "language": "python",
   "name": "python3"
  },
  "language_info": {
   "codemirror_mode": {
    "name": "ipython",
    "version": 3
   },
   "file_extension": ".py",
   "mimetype": "text/x-python",
   "name": "python",
   "nbconvert_exporter": "python",
   "pygments_lexer": "ipython3",
   "version": "3.6.8"
  }
 },
 "nbformat": 4,
 "nbformat_minor": 1
}
