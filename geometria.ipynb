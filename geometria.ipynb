{
  "nbformat": 4,
  "nbformat_minor": 0,
  "metadata": {
    "colab": {
      "name": "inecuaciones.ipynb",
      "version": "0.3.2",
      "provenance": [],
      "collapsed_sections": [],
      "include_colab_link": true
    },
    "kernelspec": {
      "display_name": "Python 3",
      "language": "python",
      "name": "python3"
    }
  },
  "cells": [
    {
      "cell_type": "markdown",
      "metadata": {
        "id": "view-in-github",
        "colab_type": "text"
      },
      "source": [
        "<a href=\"https://colab.research.google.com/github/crdguez/aprendiendo_sympy/blob/master/geometria.ipynb\" target=\"_parent\"><img src=\"https://colab.research.google.com/assets/colab-badge.svg\" alt=\"Open In Colab\"/></a>"
      ]
    },
    {
      "metadata": {
        "id": "eXD1EwuLRgio",
        "colab_type": "text"
      },
      "cell_type": "markdown",
      "source": [
        "Si usas [https://colab.research.google.com/](https://colab.research.google.com/), necesitarás instalar los siguientes paquetes si quieres usar la función *parse_latex* que sirve para introducir expresiones directamente en $ \\LaTeX $:"
      ]
    },
    {
      "metadata": {
        "id": "9I4mcvxARgiz",
        "colab_type": "code",
        "colab": {}
      },
      "cell_type": "code",
      "source": [
        "!pip install sympy antlr4-python3-runtime"
      ],
      "execution_count": 0,
      "outputs": []
    },
    {
      "metadata": {
        "colab_type": "text",
        "id": "j8BLxT72aKUF"
      },
      "cell_type": "markdown",
      "source": [
        "Lo primero que necesitamos hacer es importar la librerias de *Python* que necesitaremos"
      ]
    },
    {
      "metadata": {
        "colab_type": "code",
        "id": "iW7rNRG2PMFC",
        "colab": {}
      },
      "cell_type": "code",
      "source": [
        "from sympy import *\n",
        "from IPython.display import Markdown as md\n",
        "from IPython.display import display\n",
        "from sympy import solve_poly_inequality, reduce_abs_inequality\n",
        "from sympy.solvers.inequalities import solve_univariate_inequality, reduce_rational_inequalities\n",
        "from sympy.parsing.latex import parse_latex\n",
        "\n",
        "from __future__ import division\n",
        "from sympy import *\n",
        "x, y, z, t = symbols('x y z t')\n",
        "k, m, n = symbols('k m n', integer=True)\n",
        "f, g, h = symbols('f g h', cls=Function)\n",
        "init_printing(use_latex=False)"
      ],
      "execution_count": 0,
      "outputs": []
    },
    {
      "metadata": {
        "colab_type": "text",
        "id": "xm6t0kBoh6Rc"
      },
      "cell_type": "markdown",
      "source": [
        "## Referencias\n",
        "\n",
        "\n",
        " *   [Documentación de SymPy](https://docs.sympy.org/latest/index.html#)\n"
      ]
    },
    {
      "metadata": {
        "colab_type": "code",
        "id": "xEAgD1TObj74",
        "colab": {}
      },
      "cell_type": "code",
      "source": [
        "!jupyter nbconvert ecuaciones.ipynb --to=markdown"
      ],
      "execution_count": 0,
      "outputs": []
    }
  ]
}