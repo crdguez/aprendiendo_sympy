{
 "cells": [
  {
   "cell_type": "markdown",
   "metadata": {
    "colab_type": "text",
    "id": "view-in-github"
   },
   "source": [
    "<a href=\"https://colab.research.google.com/github/crdguez/aprendiendo_sympy/blob/master/geometria.ipynb\" target=\"_parent\"><img src=\"https://colab.research.google.com/assets/colab-badge.svg\" alt=\"Open In Colab\"/></a>"
   ]
  },
  {
   "cell_type": "markdown",
   "metadata": {
    "colab_type": "text",
    "id": "eXD1EwuLRgio"
   },
   "source": [
    "Si usas [https://colab.research.google.com/](https://colab.research.google.com/), necesitarás instalar los siguientes paquetes si quieres usar la función *parse_latex* que sirve para introducir expresiones directamente en $ \\LaTeX $:"
   ]
  },
  {
   "cell_type": "code",
   "execution_count": 1,
   "metadata": {
    "colab": {
     "base_uri": "https://localhost:8080/",
     "height": 268
    },
    "colab_type": "code",
    "id": "9I4mcvxARgiz",
    "outputId": "132eba9c-3dd1-4586-8f06-97e77e5abb9e"
   },
   "outputs": [],
   "source": [
    "# Descomentar si se quiere usar:\n",
    "# !pip install sympy==1.3 antlr4-python3-runtime"
   ]
  },
  {
   "cell_type": "markdown",
   "metadata": {
    "colab_type": "text",
    "id": "j8BLxT72aKUF"
   },
   "source": [
    "Lo primero que necesitamos hacer es importar la librerias de *Python* que necesitaremos"
   ]
  },
  {
   "cell_type": "code",
   "execution_count": 2,
   "metadata": {
    "colab": {},
    "colab_type": "code",
    "id": "iW7rNRG2PMFC"
   },
   "outputs": [],
   "source": [
    "from sympy import *\n",
    "from IPython.display import Markdown as md\n",
    "from IPython.display import display\n",
    "from sympy import solve_poly_inequality, reduce_abs_inequality\n",
    "from sympy.solvers.inequalities import solve_univariate_inequality, reduce_rational_inequalities\n",
    "from sympy.parsing.latex import parse_latex\n",
    "\n",
    "from sympy.vector import CoordSys3D, vector\n",
    "\n",
    "import numpy as np\n",
    "\n",
    "\n",
    "from __future__ import division\n",
    "from sympy import *\n",
    "x, y, z, t = symbols('x y z t')\n",
    "k, m, n = symbols('k m n', integer=True)\n",
    "f, g, h = symbols('f g h', cls=Function)\n",
    "#init_printing(use_latex=False)"
   ]
  },
  {
   "cell_type": "markdown",
   "metadata": {
    "colab_type": "text",
    "id": "rp8fIj-aHy4s"
   },
   "source": [
    "## Usando el módulo Geometry"
   ]
  },
  {
   "cell_type": "code",
   "execution_count": 3,
   "metadata": {
    "colab": {},
    "colab_type": "code",
    "id": "ZU0K8qx1ILqc"
   },
   "outputs": [],
   "source": [
    "from sympy.geometry import Point, Line"
   ]
  },
  {
   "cell_type": "markdown",
   "metadata": {},
   "source": [
    "### Vectores como puntos\n",
    "\n",
    "Los vectores se definen como Puntos.\n",
    "\n",
    "**Ejemplo:** el vector $\\overrightarrow{v}=(1,2)$"
   ]
  },
  {
   "cell_type": "code",
   "execution_count": 6,
   "metadata": {},
   "outputs": [],
   "source": [
    "v = Point(1,2)"
   ]
  },
  {
   "cell_type": "markdown",
   "metadata": {},
   "source": [
    "* Coordenadas"
   ]
  },
  {
   "cell_type": "code",
   "execution_count": 9,
   "metadata": {},
   "outputs": [
    {
     "data": {
      "text/plain": [
       "(1, 2)"
      ]
     },
     "execution_count": 9,
     "metadata": {},
     "output_type": "execute_result"
    }
   ],
   "source": [
    "v.args"
   ]
  },
  {
   "cell_type": "markdown",
   "metadata": {},
   "source": [
    "* Giros"
   ]
  },
  {
   "cell_type": "code",
   "execution_count": 10,
   "metadata": {},
   "outputs": [
    {
     "data": {
      "text/plain": [
       "Point2D(-1, -2)"
      ]
     },
     "execution_count": 10,
     "metadata": {},
     "output_type": "execute_result"
    }
   ],
   "source": [
    "v.rotate(pi)"
   ]
  },
  {
   "cell_type": "markdown",
   "metadata": {},
   "source": [
    "* Módulo"
   ]
  },
  {
   "cell_type": "code",
   "execution_count": 11,
   "metadata": {},
   "outputs": [
    {
     "data": {
      "text/plain": [
       "sqrt(5)"
      ]
     },
     "execution_count": 11,
     "metadata": {},
     "output_type": "execute_result"
    }
   ],
   "source": [
    "v.distance(Point(0,0))"
   ]
  },
  {
   "cell_type": "markdown",
   "metadata": {},
   "source": [
    "### Rectas\n",
    "\n",
    "Para crear rectas necesitamos dos puntos, o un punto y una pendiente:\n",
    "\n",
    "**Ejemplo:** Recta que pasa por *A(1,3)* y *B(2,4)*"
   ]
  },
  {
   "cell_type": "code",
   "execution_count": 19,
   "metadata": {},
   "outputs": [
    {
     "name": "stdout",
     "output_type": "stream",
     "text": [
      "-x + y - 2 = 0\n"
     ]
    }
   ],
   "source": [
    "lista = [(1,3),(2,4)]\n",
    "A, B = [Point(l) for l in lista]\n",
    "r = Line(A,B)\n",
    "pprint(Eq(r.equation(),0))"
   ]
  },
  {
   "cell_type": "code",
   "execution_count": 23,
   "metadata": {},
   "outputs": [
    {
     "data": {
      "image/png": "[encoded data removed]",
      "text/plain": [
       "<Figure size 432x288 with 1 Axes>"
      ]
     },
     "metadata": {},
     "output_type": "display_data"
    }
   ],
   "source": [
    "from sympy.plotting import plot_implicit\n",
    "\n",
    "p1 = plot_implicit(r.equation())\n"
   ]
  },
  {
   "cell_type": "markdown",
   "metadata": {},
   "source": [
    "* Pero también podemos indicar la pendiente con el argumeto *slope*"
   ]
  },
  {
   "cell_type": "code",
   "execution_count": 34,
   "metadata": {},
   "outputs": [
    {
     "name": "stdout",
     "output_type": "stream",
     "text": [
      "-x + y - 2 = 0\n"
     ]
    }
   ],
   "source": [
    "m = r.slope\n",
    "\n",
    "s = Line(A,slope=m)\n",
    "pprint(Eq(s.equation(),0))"
   ]
  },
  {
   "cell_type": "code",
   "execution_count": 36,
   "metadata": {},
   "outputs": [
    {
     "data": {
      "text/plain": [
       "Point2D(1, 1)"
      ]
     },
     "execution_count": 36,
     "metadata": {},
     "output_type": "execute_result"
    }
   ],
   "source": [
    "s.direction"
   ]
  },
  {
   "cell_type": "markdown",
   "metadata": {},
   "source": [
    "### (Avanzado) Función para importar rectas desde $\\LaTeX$\n",
    "\n",
    "El siguiente código permite manejar ecuaciones de recta en código LaTeX"
   ]
  },
  {
   "cell_type": "code",
   "execution_count": 42,
   "metadata": {},
   "outputs": [
    {
     "name": "stdout",
     "output_type": "stream",
     "text": [
      "3⋅x        \n",
      "─── + y + 4\n",
      " 2         \n"
     ]
    }
   ],
   "source": [
    "from sympy.parsing.latex import parse_latex\n",
    "\n",
    "def Linea(expr) :\n",
    "    eq = eval(str(parse_latex(expr)))\n",
    "    p1 = Point(0,nsimplify(solve(Eq(eq.args[0].subs(x,0),eq.args[1].subs(x,0)),y)[0]))\n",
    "    p2 = Point(1,nsimplify(solve(Eq(eq.args[0].subs(x,1),eq.args[1].subs(x,1)),y)[0]))\n",
    "    \n",
    "    return Line(p1,p2)\n",
    "\n",
    "r=Linea(r'3x+2y+8=0')\n",
    "pprint(r.equation())"
   ]
  },
  {
   "cell_type": "markdown",
   "metadata": {},
   "source": [
    "## Usando el modulo Vector\n",
    "\n",
    "Podemos usar el módulo *Vector*. Es un poco más complicado de usar porque hay que genera un sistemar de coordenadas, pero es más potente.\n",
    "\n",
    "Para generar el sistema de coordenadas:"
   ]
  },
  {
   "cell_type": "code",
   "execution_count": 4,
   "metadata": {},
   "outputs": [
    {
     "data": {
      "text/plain": [
       "(N.i, N.j, N.k)"
      ]
     },
     "metadata": {},
     "output_type": "display_data"
    }
   ],
   "source": [
    "N = CoordSys3D('N') #instanciamos un sistema de coordenadas en R3\n",
    "\n",
    "i, j, k = N.base_vectors()\n",
    "\n",
    "display(N.base_vectors())\n"
   ]
  },
  {
   "cell_type": "markdown",
   "metadata": {},
   "source": [
    "Vamos a generar el vector $\\overrightarrow{v}=(1,2)$. Como el módulo *vector* trabaja en 3 dimesiones, debemos pasar las 3 componentes:"
   ]
  },
  {
   "cell_type": "code",
   "execution_count": 5,
   "metadata": {},
   "outputs": [
    {
     "data": {
      "text/plain": [
       "N.i + 2*N.j"
      ]
     },
     "execution_count": 5,
     "metadata": {},
     "output_type": "execute_result"
    }
   ],
   "source": [
    "v = [1,2,0]\n",
    "base = [i,j,k]\n",
    "u=(np.array(v)*np.array(base)).sum()\n",
    "type(u)\n",
    "u.components\n",
    "u"
   ]
  },
  {
   "cell_type": "markdown",
   "metadata": {},
   "source": [
    "Podíamos haber obtenido lo mismo directamente:"
   ]
  },
  {
   "cell_type": "code",
   "execution_count": 6,
   "metadata": {},
   "outputs": [
    {
     "data": {
      "text/plain": [
       "N.i + 2*N.j"
      ]
     },
     "execution_count": 6,
     "metadata": {},
     "output_type": "execute_result"
    }
   ],
   "source": [
    "i+2*j"
   ]
  },
  {
   "cell_type": "markdown",
   "metadata": {},
   "source": [
    "### Operaciones con vectores\n",
    "\n",
    "#### Suma, producto por un número y combinaciones lineales\n",
    "\n",
    "Se operan con los operadores habituales, solo hay que tener encuenta que los operando tienen que ser vectores. \n",
    "Dados los vectores $\\overrightarrow{u}=(1,3)$ y $\\overrightarrow{v}=(-3,5)$, y $m=3$ y $n=-2$"
   ]
  },
  {
   "cell_type": "code",
   "execution_count": 7,
   "metadata": {},
   "outputs": [],
   "source": [
    "u=i+3*j\n",
    "v=-3*i+5*j\n",
    "m=3\n",
    "n=-2"
   ]
  },
  {
   "cell_type": "markdown",
   "metadata": {},
   "source": [
    " *  $\\overrightarrow{u}+\\overrightarrow{v}$"
   ]
  },
  {
   "cell_type": "code",
   "execution_count": 8,
   "metadata": {},
   "outputs": [
    {
     "data": {
      "text/plain": [
       "(-2)*N.i + 8*N.j"
      ]
     },
     "execution_count": 8,
     "metadata": {},
     "output_type": "execute_result"
    }
   ],
   "source": [
    "u+v"
   ]
  },
  {
   "cell_type": "markdown",
   "metadata": {},
   "source": [
    " *  $\\overrightarrow{u}-v\\overrightarrow{v}$"
   ]
  },
  {
   "cell_type": "markdown",
   "metadata": {},
   "source": [
    " *  $\\overrightarrow{u}+\\overrightarrow{v}$"
   ]
  },
  {
   "cell_type": "code",
   "execution_count": 9,
   "metadata": {},
   "outputs": [
    {
     "data": {
      "text/plain": [
       "4*N.i + (-2)*N.j"
      ]
     },
     "execution_count": 9,
     "metadata": {},
     "output_type": "execute_result"
    }
   ],
   "source": [
    "u-v"
   ]
  },
  {
   "cell_type": "markdown",
   "metadata": {},
   "source": [
    " *  $m\\cdot\\overrightarrow{u}$"
   ]
  },
  {
   "cell_type": "code",
   "execution_count": 10,
   "metadata": {},
   "outputs": [
    {
     "data": {
      "text/plain": [
       "3*N.i + 9*N.j"
      ]
     },
     "execution_count": 10,
     "metadata": {},
     "output_type": "execute_result"
    }
   ],
   "source": [
    "m*u"
   ]
  },
  {
   "cell_type": "markdown",
   "metadata": {},
   "source": [
    " *  $m\\cdot\\overrightarrow{u}+n\\cdot\\overrightarrow{v}$"
   ]
  },
  {
   "cell_type": "code",
   "execution_count": 11,
   "metadata": {},
   "outputs": [
    {
     "data": {
      "text/plain": [
       "9*N.i + (-1)*N.j"
      ]
     },
     "execution_count": 11,
     "metadata": {},
     "output_type": "execute_result"
    }
   ],
   "source": [
    "m*u+n*v"
   ]
  },
  {
   "cell_type": "markdown",
   "metadata": {},
   "source": [
    "#### Módulo\n",
    "\n",
    "* $|u|$"
   ]
  },
  {
   "cell_type": "code",
   "execution_count": 75,
   "metadata": {},
   "outputs": [
    {
     "data": {
      "image/png": "[encoded data removed]",
      "text/latex": [
       "$$\\sqrt{10}$$"
      ],
      "text/plain": [
       "√10"
      ]
     },
     "execution_count": 75,
     "metadata": {},
     "output_type": "execute_result"
    }
   ],
   "source": [
    "u.magnitude()"
   ]
  },
  {
   "cell_type": "markdown",
   "metadata": {},
   "source": [
    "### Producto escalar\n",
    "\n"
   ]
  },
  {
   "cell_type": "markdown",
   "metadata": {
    "colab_type": "text",
    "id": "xm6t0kBoh6Rc"
   },
   "source": [
    "## Referencias\n",
    "\n",
    "\n",
    " *   [Documentación de SymPy](https://docs.sympy.org/latest/index.html#)\n"
   ]
  },
  {
   "cell_type": "code",
   "execution_count": 12,
   "metadata": {
    "colab": {},
    "colab_type": "code",
    "id": "xEAgD1TObj74"
   },
   "outputs": [
    {
     "name": "stdout",
     "output_type": "stream",
     "text": [
      "[NbConvertApp] Converting notebook geometria.ipynb to markdown\n",
      "[NbConvertApp] Writing 3983 bytes to geometria.md\n"
     ]
    }
   ],
   "source": [
    "!jupyter nbconvert geometria.ipynb --to=markdown"
   ]
  }
 ],
 "metadata": {
  "colab": {
   "collapsed_sections": [],
   "include_colab_link": true,
   "name": "inecuaciones.ipynb",
   "provenance": [],
   "version": "0.3.2"
  },
  "kernelspec": {
   "display_name": "Python 3",
   "language": "python",
   "name": "python3"
  },
  "language_info": {
   "codemirror_mode": {
    "name": "ipython",
    "version": 3
   },
   "file_extension": ".py",
   "mimetype": "text/x-python",
   "name": "python",
   "nbconvert_exporter": "python",
   "pygments_lexer": "ipython3",
   "version": "3.6.5"
  }
 },
 "nbformat": 4,
 "nbformat_minor": 1
}
