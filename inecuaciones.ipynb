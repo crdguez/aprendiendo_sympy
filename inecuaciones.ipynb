{
  "nbformat": 4,
  "nbformat_minor": 0,
  "metadata": {
    "colab": {
      "name": "inecuaciones.ipynb",
      "version": "0.3.2",
      "provenance": [],
      "collapsed_sections": [],
      "include_colab_link": true
    }
  },
  "cells": [
    {
      "cell_type": "markdown",
      "metadata": {
        "id": "view-in-github",
        "colab_type": "text"
      },
      "source": [
        "<a href=\"https://colab.research.google.com/github/crdguez/aprendiendo_sympy/blob/master/inecuaciones.ipynb\" target=\"_parent\"><img src=\"https://colab.research.google.com/assets/colab-badge.svg\" alt=\"Open In Colab\"/></a>"
      ]
    },
    {
      "metadata": {
        "id": "j8BLxT72aKUF",
        "colab_type": "text"
      },
      "cell_type": "markdown",
      "source": [
        "Lo primero que necesitamos hacer es importar la librerias de *Python* que necesitaremos"
      ]
    },
    {
      "metadata": {
        "id": "iW7rNRG2PMFC",
        "colab_type": "code",
        "colab": {}
      },
      "cell_type": "code",
      "source": [
        "from sympy import *\n",
        "from IPython.display import Markdown as md\n",
        "from IPython.display import display\n",
        "from sympy import reduce_abs_inequality\n",
        "from __future__ import division\n",
        "from sympy import *\n",
        "x, y, z, t = symbols('x y z t')\n",
        "k, m, n = symbols('k m n', integer=True)\n",
        "f, g, h = symbols('f g h', cls=Function)\n",
        "init_printing(use_latex=False)"
      ],
      "execution_count": 0,
      "outputs": []
    },
    {
      "metadata": {
        "id": "KWNz6e-cRWks",
        "colab_type": "text"
      },
      "cell_type": "markdown",
      "source": [
        "## Resolviendo inecuaciones"
      ]
    },
    {
      "metadata": {
        "id": "W-NX43GNKOUc",
        "colab_type": "text"
      },
      "cell_type": "markdown",
      "source": [
        "### Inecuaciones polinómicas\n",
        "\n",
        "Son del tipo $$P(X) \\leq 0$$ o $$P(X) < 0$$ o $$P(X) \\geq 0$$ o $$P(X) > 0$$\n",
        "\n",
        "\n",
        "\n"
      ]
    },
    {
      "metadata": {
        "id": "dQwu3W1eDRU-",
        "colab_type": "text"
      },
      "cell_type": "markdown",
      "source": [
        "### Inecuaciones con  valores absolutos\n",
        "Para poder resolver inecuaciones con valores absolutos hay que utilizar la función *reduce_abs_inequality*.\n",
        "\n",
        "La función recibe tres parámetros resuelve inecuaciones con el miembro de la derecha 0 (por lo tanto hay que ):\n",
        "\n",
        "\n",
        "*   La expresión algebraica del miembro de la izquierda\n",
        "*   El símbolo de la desigualdad\n",
        "*   La variable, normalmente x\n",
        "\n",
        "\n",
        "\n"
      ]
    },
    {
      "metadata": {
        "id": "isrxjV-pYplh",
        "colab_type": "text"
      },
      "cell_type": "markdown",
      "source": [
        "#### Ejemplo:\n",
        "\n",
        "Resuelve la inecuación $$\\lvert x-2 \\rvert \\leq 1 $$\n",
        "\n",
        "\n",
        "\n",
        "> La inecuación anterior es equivalente a $\\lvert x-2 \\rvert -1 \\leq 0$  y se resuelve con el siguiente código:\n",
        "\n"
      ]
    },
    {
      "metadata": {
        "id": "vVCmOj56PbAa",
        "colab_type": "code",
        "outputId": "6b215b25-b0ee-4a24-ac14-f6c65b618d01",
        "colab": {
          "base_uri": "https://localhost:8080/",
          "height": 35
        }
      },
      "cell_type": "code",
      "source": [
        "reduce_abs_inequality(Abs(x-2)-1,'<=',x).as_set()"
      ],
      "execution_count": 8,
      "outputs": [
        {
          "output_type": "execute_result",
          "data": {
            "text/plain": [
              "[1, 3]"
            ]
          },
          "metadata": {
            "tags": []
          },
          "execution_count": 8
        }
      ]
    },
    {
      "metadata": {
        "id": "xm6t0kBoh6Rc",
        "colab_type": "text"
      },
      "cell_type": "markdown",
      "source": [
        "## Referencias\n",
        "\n",
        "\n",
        " *   [Documentación de SymPy](https://docs.sympy.org/latest/index.html#)\n"
      ]
    },
    {
      "metadata": {
        "id": "xEAgD1TObj74",
        "colab_type": "code",
        "colab": {}
      },
      "cell_type": "code",
      "source": [
        "!jupyter nbconvert inecuaciones.ipynb --to=markdown"
      ],
      "execution_count": 0,
      "outputs": []
    }
  ]
}