{
  "nbformat": 4,
  "nbformat_minor": 0,
  "metadata": {
    "colab": {
      "name": "inecuaciones.ipynb",
      "version": "0.3.2",
      "provenance": [],
      "collapsed_sections": [],
      "include_colab_link": true
    },
    "kernelspec": {
      "display_name": "Python 3",
      "language": "python",
      "name": "python3"
    }
  },
  "cells": [
    {
      "cell_type": "markdown",
      "metadata": {
        "id": "view-in-github",
        "colab_type": "text"
      },
      "source": [
        "<a href=\"https://colab.research.google.com/github/crdguez/aprendiendo_sympy/blob/master/inecuaciones.ipynb\" target=\"_parent\"><img src=\"https://colab.research.google.com/assets/colab-badge.svg\" alt=\"Open In Colab\"/></a>"
      ]
    },
    {
      "metadata": {
        "id": "oCwo49EcAcFp",
        "colab_type": "text"
      },
      "cell_type": "markdown",
      "source": [
        "Si usas [https://colab.research.google.com/](https://colab.research.google.com/) , necesitarás instalar los siguientes paquetes si quieres usar la función *parse_latex* que sirve para introducir expresiones directamente en $ \\LaTeX $:"
      ]
    },
    {
      "metadata": {
        "id": "DYpaGUD8B-Wh",
        "colab_type": "code",
        "colab": {
          "base_uri": "https://localhost:8080/",
          "height": 234
        },
        "outputId": "50aec83e-c2b9-4b98-926a-bdbbf2a1e252"
      },
      "cell_type": "code",
      "source": [
        "!pip install sympy==1.3 antlr4-python3-runtime\n"
      ],
      "execution_count": 3,
      "outputs": [
        {
          "output_type": "stream",
          "text": [
            "Requirement already satisfied: sympy==1.3 in /usr/local/lib/python3.6/dist-packages (1.3)\n",
            "Collecting antlr4-python3-runtime\n",
            "\u001b[?25l  Downloading https://files.pythonhosted.org/packages/3e/96/aba01b2948ec67f237cd387c022820835ae0d8db5cab4bd404b351660b5e/antlr4-python3-runtime-4.7.1.tar.gz (111kB)\n",
            "\u001b[K    100% |████████████████████████████████| 112kB 3.8MB/s \n",
            "\u001b[?25hRequirement already satisfied: mpmath>=0.19 in /usr/local/lib/python3.6/dist-packages (from sympy==1.3) (1.0.0)\n",
            "Building wheels for collected packages: antlr4-python3-runtime\n",
            "  Running setup.py bdist_wheel for antlr4-python3-runtime ... \u001b[?25l-\b \b\\\b \bdone\n",
            "\u001b[?25h  Stored in directory: /root/.cache/pip/wheels/ef/f6/18/ad300e691236a3408a99edc750484b56e8d6b11b2c38eacb10\n",
            "Successfully built antlr4-python3-runtime\n",
            "Installing collected packages: antlr4-python3-runtime\n",
            "Successfully installed antlr4-python3-runtime-4.7.1\n"
          ],
          "name": "stdout"
        }
      ]
    },
    {
      "metadata": {
        "colab_type": "text",
        "id": "j8BLxT72aKUF"
      },
      "cell_type": "markdown",
      "source": [
        "Lo primero que necesitamos hacer es importar la librerias de *Python* que necesitaremos"
      ]
    },
    {
      "metadata": {
        "colab_type": "code",
        "id": "iW7rNRG2PMFC",
        "colab": {}
      },
      "cell_type": "code",
      "source": [
        "from sympy import *\n",
        "from IPython.display import Markdown as md\n",
        "from IPython.display import display\n",
        "from sympy import solve_poly_inequality, reduce_abs_inequality\n",
        "from sympy.solvers.inequalities import solve_univariate_inequality, reduce_rational_inequalities\n",
        "from sympy.parsing.latex import parse_latex\n",
        "\n",
        "from __future__ import division\n",
        "from sympy import *\n",
        "x, y, z, t = symbols('x y z t')\n",
        "k, m, n = symbols('k m n', integer=True)\n",
        "f, g, h = symbols('f g h', cls=Function)\n",
        "init_printing(use_latex=False)"
      ],
      "execution_count": 0,
      "outputs": []
    },
    {
      "metadata": {
        "colab_type": "text",
        "id": "KWNz6e-cRWks"
      },
      "cell_type": "markdown",
      "source": [
        "## Resolviendo inecuaciones\n",
        "\n",
        "### Inecuaciones polinómicas\n",
        "\n",
        "Son del siguiente tipo o similar: $$P(X) \\leq 0$$\n",
        "\n",
        "Podemos utilizar *solve_univariate_inequality*. Hay que pasar los parámetros:\n",
        "\n",
        "* inecuación\n",
        "* incognita\n",
        "* Cómo se quiere la solución\n",
        "    - Notación de desigualdad. Por defecto\n",
        "    - Notación de conjuntos de números (intervalos): *relational = False*\n"
      ]
    },
    {
      "metadata": {
        "id": "caMx1FR4APub",
        "colab_type": "text"
      },
      "cell_type": "markdown",
      "source": [
        "\n",
        "#### Ejemplo:\n",
        "\n",
        "Resolver $5x - 3 \\leqslant 7 - 2x$\n"
      ]
    },
    {
      "metadata": {
        "id": "19YgTpSsAPuj",
        "colab_type": "code",
        "colab": {},
        "outputId": "d6a52124-bbac-4003-e0e5-8f8ed68f97a1"
      },
      "cell_type": "code",
      "source": [
        "solve_univariate_inequality(5*x-3<=7-2*x,x, relational=False)"
      ],
      "execution_count": 0,
      "outputs": [
        {
          "output_type": "execute_result",
          "data": {
            "text/plain": [
              "(-∞, 10/7]"
            ]
          },
          "metadata": {
            "tags": []
          },
          "execution_count": 3
        }
      ]
    },
    {
      "metadata": {
        "id": "CdUW53DvAPu8",
        "colab_type": "text"
      },
      "cell_type": "markdown",
      "source": [
        "Algunas inecuaciones dan errores por lo que se puede utilizar *reduce_rational_inequalities*. Observa que hay que escribir la inecuación dentro de *[[]]*"
      ]
    },
    {
      "metadata": {
        "id": "OdfVuQ1PAPvB",
        "colab_type": "code",
        "colab": {},
        "outputId": "180434dd-4882-4128-e68d-de56ba7e4b11"
      },
      "cell_type": "code",
      "source": [
        "reduce_rational_inequalities([[5*x-3<=7-2*x]],x).as_set()"
      ],
      "execution_count": 0,
      "outputs": [
        {
          "output_type": "execute_result",
          "data": {
            "text/plain": [
              "(-∞, 10/7]"
            ]
          },
          "metadata": {
            "tags": []
          },
          "execution_count": 4
        }
      ]
    },
    {
      "metadata": {
        "id": "ZvgwZb0RAPvV",
        "colab_type": "text"
      },
      "cell_type": "markdown",
      "source": [
        "Sin embargo, si intentamos con *solve_univariate_inequality* la ecuación: $$- 6 x \\left(\\frac{x}{4} - \\frac{1}{4}\\right) + 3 x + 30 < x \\left(- 1.5 x + 6.0\\right)$$ Obtenemos:"
      ]
    },
    {
      "metadata": {
        "id": "Lkv25XsVAPvZ",
        "colab_type": "code",
        "colab": {},
        "outputId": "66c0560c-6d8b-42e8-f481-f4bc8040fb28"
      },
      "cell_type": "code",
      "source": [
        "solve_univariate_inequality([[3*(x - 2*(x*((x - 1)/4) - 5)) < (3/2)*(-x + 4)*x]],x).as_set()"
      ],
      "execution_count": 0,
      "outputs": [
        {
          "output_type": "error",
          "ename": "AttributeError",
          "evalue": "'list' object has no attribute 'xreplace'",
          "traceback": [
            "\u001b[0;31m---------------------------------------------------------------------------\u001b[0m",
            "\u001b[0;31mAttributeError\u001b[0m                            Traceback (most recent call last)",
            "\u001b[0;32m<ipython-input-6-a174771ca562>\u001b[0m in \u001b[0;36m<module>\u001b[0;34m()\u001b[0m\n\u001b[0;32m----> 1\u001b[0;31m \u001b[0msolve_univariate_inequality\u001b[0m\u001b[0;34m(\u001b[0m\u001b[0;34m[\u001b[0m\u001b[0;34m[\u001b[0m\u001b[0;36m3\u001b[0m\u001b[0;34m*\u001b[0m\u001b[0;34m(\u001b[0m\u001b[0mx\u001b[0m \u001b[0;34m-\u001b[0m \u001b[0;36m2\u001b[0m\u001b[0;34m*\u001b[0m\u001b[0;34m(\u001b[0m\u001b[0mx\u001b[0m\u001b[0;34m*\u001b[0m\u001b[0;34m(\u001b[0m\u001b[0;34m(\u001b[0m\u001b[0mx\u001b[0m \u001b[0;34m-\u001b[0m \u001b[0;36m1\u001b[0m\u001b[0;34m)\u001b[0m\u001b[0;34m/\u001b[0m\u001b[0;36m4\u001b[0m\u001b[0;34m)\u001b[0m \u001b[0;34m-\u001b[0m \u001b[0;36m5\u001b[0m\u001b[0;34m)\u001b[0m\u001b[0;34m)\u001b[0m \u001b[0;34m<\u001b[0m \u001b[0;34m(\u001b[0m\u001b[0;36m3\u001b[0m\u001b[0;34m/\u001b[0m\u001b[0;36m2\u001b[0m\u001b[0;34m)\u001b[0m\u001b[0;34m*\u001b[0m\u001b[0;34m(\u001b[0m\u001b[0;34m-\u001b[0m\u001b[0mx\u001b[0m \u001b[0;34m+\u001b[0m \u001b[0;36m4\u001b[0m\u001b[0;34m)\u001b[0m\u001b[0;34m*\u001b[0m\u001b[0mx\u001b[0m\u001b[0;34m]\u001b[0m\u001b[0;34m]\u001b[0m\u001b[0;34m,\u001b[0m\u001b[0mx\u001b[0m\u001b[0;34m)\u001b[0m\u001b[0;34m.\u001b[0m\u001b[0mas_set\u001b[0m\u001b[0;34m(\u001b[0m\u001b[0;34m)\u001b[0m\u001b[0;34m\u001b[0m\u001b[0m\n\u001b[0m",
            "\u001b[0;32m~/Mis_aplicaciones/anaconda3/lib/python3.6/site-packages/sympy/solvers/inequalities.py\u001b[0m in \u001b[0;36msolve_univariate_inequality\u001b[0;34m(expr, gen, relational, domain, continuous)\u001b[0m\n\u001b[1;32m    464\u001b[0m         \u001b[0mgen\u001b[0m \u001b[0;34m=\u001b[0m \u001b[0mDummy\u001b[0m\u001b[0;34m(\u001b[0m\u001b[0;34m'gen'\u001b[0m\u001b[0;34m,\u001b[0m \u001b[0mreal\u001b[0m\u001b[0;34m=\u001b[0m\u001b[0;32mTrue\u001b[0m\u001b[0;34m)\u001b[0m\u001b[0;34m\u001b[0m\u001b[0m\n\u001b[1;32m    465\u001b[0m         \u001b[0;32mtry\u001b[0m\u001b[0;34m:\u001b[0m\u001b[0;34m\u001b[0m\u001b[0m\n\u001b[0;32m--> 466\u001b[0;31m             \u001b[0mexpr\u001b[0m \u001b[0;34m=\u001b[0m \u001b[0mexpr\u001b[0m\u001b[0;34m.\u001b[0m\u001b[0mxreplace\u001b[0m\u001b[0;34m(\u001b[0m\u001b[0;34m{\u001b[0m\u001b[0m_gen\u001b[0m\u001b[0;34m:\u001b[0m \u001b[0mgen\u001b[0m\u001b[0;34m}\u001b[0m\u001b[0;34m)\u001b[0m\u001b[0;34m\u001b[0m\u001b[0m\n\u001b[0m\u001b[1;32m    467\u001b[0m         \u001b[0;32mexcept\u001b[0m \u001b[0mTypeError\u001b[0m\u001b[0;34m:\u001b[0m\u001b[0;34m\u001b[0m\u001b[0m\n\u001b[1;32m    468\u001b[0m             raise TypeError(filldedent('''\n",
            "\u001b[0;31mAttributeError\u001b[0m: 'list' object has no attribute 'xreplace'"
          ]
        }
      ]
    },
    {
      "metadata": {
        "id": "49OZKr-eAPvs",
        "colab_type": "text"
      },
      "cell_type": "markdown",
      "source": [
        "Sin embargo:"
      ]
    },
    {
      "metadata": {
        "id": "qaEBaabVAPv3",
        "colab_type": "code",
        "colab": {},
        "outputId": "fd94beec-9d3d-4bb6-fd07-b8ed30a3f94b"
      },
      "cell_type": "code",
      "source": [
        "reduce_rational_inequalities([[3*(x - 2*(x*((x - 1)/4) - 5)) < (3/2)*(-x + 4)*x]],x).as_set()"
      ],
      "execution_count": 0,
      "outputs": [
        {
          "output_type": "execute_result",
          "data": {
            "text/plain": [
              "(20.0, ∞)"
            ]
          },
          "metadata": {
            "tags": []
          },
          "execution_count": 26
        }
      ]
    },
    {
      "metadata": {
        "id": "CevNNpaNAPwP",
        "colab_type": "text"
      },
      "cell_type": "markdown",
      "source": [
        "### Inecuaciones con fracciones algebraicas\n",
        "\n",
        "Con *reduce_rational_inequalities*. Parámetros:\n",
        "\n",
        "* inecuaciones: Observa que hay que escribir la inecuación dentro de *[[]]*\n",
        "* incognita\n",
        "* Cómo se quiere la solución\n",
        "    - Notación de desigualdad. Por defecto\n",
        "    - Notación de conjuntos de números (intervalos): *relational = False*\n",
        "\n",
        "#### Ejemplo: \n",
        "\n",
        "Resolver $\\frac{{x + 1}}{{x + 3}} < 2$\n",
        "\n"
      ]
    },
    {
      "metadata": {
        "id": "ifune9zKAPwZ",
        "colab_type": "code",
        "colab": {},
        "outputId": "7aeace27-3116-4b44-c1e0-bde05c441d06"
      },
      "cell_type": "code",
      "source": [
        "reduce_rational_inequalities([[(x + 1)/(x + 3) < 2]],x,relational=False)"
      ],
      "execution_count": 0,
      "outputs": [
        {
          "output_type": "execute_result",
          "data": {
            "text/plain": [
              "(-∞, -5) ∪ (-3, ∞)"
            ]
          },
          "metadata": {
            "tags": []
          },
          "execution_count": 9
        }
      ]
    },
    {
      "metadata": {
        "id": "dUOqIA71APw2",
        "colab_type": "text"
      },
      "cell_type": "markdown",
      "source": [
        "### Sistemas de inecuaciones con una incognita\n",
        "\n",
        "Podemos usar, de nuevo, *reduce_rational_inequalities*:\n",
        "\n",
        "#### Ejemplo:\n",
        "\n",
        "$$\\left\\{\\begin{matrix}3x - 5 \\leq 0\\\\2x + 8 \\geq 0\\end{matrix}\\right.$$\n"
      ]
    },
    {
      "metadata": {
        "id": "HVliqWUxAPw8",
        "colab_type": "code",
        "colab": {},
        "outputId": "f9a9471b-0929-4e64-b75c-3a784534cf0a"
      },
      "cell_type": "code",
      "source": [
        "reduce_rational_inequalities([[3*x-5<=0, 2*x+8>=0]],x,relational=False)"
      ],
      "execution_count": 0,
      "outputs": [
        {
          "output_type": "execute_result",
          "data": {
            "text/plain": [
              "[-4, 5/3]"
            ]
          },
          "metadata": {
            "tags": []
          },
          "execution_count": 10
        }
      ]
    },
    {
      "metadata": {
        "id": "Nwh1B3mCAPxM",
        "colab_type": "text"
      },
      "cell_type": "markdown",
      "source": [
        "### Inecuaciones con dos incognitas\n",
        "\n",
        "Podemos usar *plot_implicit*. Para inecuaciones lo hace bien, pero para Sistemas mediante la conjunción *And* no lo hace correctamente. Hay un bug en SymPy que esperemos se solucione.\n",
        "\n",
        "Los parámetros son:\n",
        "\n",
        "* expresión: Ecuación, inecuación o sistemas mediante la conjunción *And*\n",
        "* parámetros adicionales: título, etc (ver documentación de Sympy)\n",
        "\n",
        "#### Ejemplo:\n",
        "\n",
        "$$x+y-2>0$$\n"
      ]
    },
    {
      "metadata": {
        "id": "0B3XoOR7APxP",
        "colab_type": "code",
        "colab": {},
        "outputId": "48ffdd99-da0a-479f-d818-131a677f9989"
      },
      "cell_type": "code",
      "source": [
        "plot_implicit(x+y-2>0, line_color = 'r')"
      ],
      "execution_count": 0,
      "outputs": [
        {
          "output_type": "display_data",
          "data": {
            "image/png": "[encoded data removed]",
            "text/plain": [
              "<Figure size 432x288 with 1 Axes>"
            ]
          },
          "metadata": {
            "tags": []
          }
        },
        {
          "output_type": "execute_result",
          "data": {
            "text/plain": [
              "<sympy.plotting.plot.Plot at 0x7fdd5c743588>"
            ]
          },
          "metadata": {
            "tags": []
          },
          "execution_count": 35
        }
      ]
    },
    {
      "metadata": {
        "id": "c_DedS3XAPxk",
        "colab_type": "text"
      },
      "cell_type": "markdown",
      "source": [
        "#### Ejemplo:\n",
        "\n",
        "$$x+y=2$$"
      ]
    },
    {
      "metadata": {
        "id": "X1a7l5Y2APxq",
        "colab_type": "code",
        "colab": {},
        "outputId": "3b6cabd2-4eb1-4e61-ada1-b4c53541de9d"
      },
      "cell_type": "code",
      "source": [
        "plot_implicit(x+y-2, line_color = 'r')"
      ],
      "execution_count": 0,
      "outputs": [
        {
          "output_type": "display_data",
          "data": {
            "image/png": "[encoded data removed]",
            "text/plain": [
              "<Figure size 432x288 with 1 Axes>"
            ]
          },
          "metadata": {
            "tags": []
          }
        },
        {
          "output_type": "execute_result",
          "data": {
            "text/plain": [
              "<sympy.plotting.plot.Plot at 0x7fdd5c71b8d0>"
            ]
          },
          "metadata": {
            "tags": []
          },
          "execution_count": 36
        }
      ]
    },
    {
      "metadata": {
        "id": "tbMRtdfNAPyK",
        "colab_type": "text"
      },
      "cell_type": "markdown",
      "source": [
        "#### Ejemplo (Bug en Sympy, lo hace mal ):\n",
        "\n",
        "$$\\left\\{\\begin{matrix}x + y \\leq 2 \\\\ x - y \\geq 0\\end{matrix}\\right.$$"
      ]
    },
    {
      "metadata": {
        "id": "6W8aGUP0APyQ",
        "colab_type": "code",
        "colab": {},
        "outputId": "1a7d1e12-5684-4b57-c3d6-e4c416030081"
      },
      "cell_type": "code",
      "source": [
        "plot_implicit(And(x+y<=2,x-y>0), line_color = 'g')"
      ],
      "execution_count": 0,
      "outputs": [
        {
          "output_type": "display_data",
          "data": {
            "image/png": "[encoded data removed]",
            "text/plain": [
              "<Figure size 432x288 with 1 Axes>"
            ]
          },
          "metadata": {
            "tags": []
          }
        },
        {
          "output_type": "execute_result",
          "data": {
            "text/plain": [
              "<sympy.plotting.plot.Plot at 0x7fdd5c6fb320>"
            ]
          },
          "metadata": {
            "tags": []
          },
          "execution_count": 38
        }
      ]
    },
    {
      "metadata": {
        "colab_type": "text",
        "id": "dQwu3W1eDRU-"
      },
      "cell_type": "markdown",
      "source": [
        "### Inecuaciones con  valores absolutos\n",
        "Para poder resolver inecuaciones con valores absolutos hay que utilizar la función *reduce_abs_inequality*.\n",
        "\n",
        "La función recibe tres parámetros. Resuelve inecuaciones con el miembro de la derecha igual a 0. Por lo tanto hay que pasar:\n",
        "\n",
        "\n",
        "*   La expresión algebraica del miembro de la izquierda\n",
        "*   El símbolo de la desigualdad\n",
        "*   La variable, normalmente x\n",
        "\n",
        "#### Ejemplo:\n",
        "\n",
        "Resuelve la inecuación $$\\lvert x-2 \\rvert \\leq 1 $$\n",
        "\n",
        "\n",
        "La inecuación anterior es equivalente a $\\lvert x-2 \\rvert -1 \\leq 0$  y se resuelve con el siguiente código:\n",
        "\n",
        "\n"
      ]
    },
    {
      "metadata": {
        "colab_type": "code",
        "id": "vVCmOj56PbAa",
        "outputId": "6b215b25-b0ee-4a24-ac14-f6c65b618d01",
        "colab": {
          "base_uri": "https://localhost:8080/",
          "height": 35
        }
      },
      "cell_type": "code",
      "source": [
        "reduce_abs_inequality(Abs(x-2)-1,'<=',x).as_set()"
      ],
      "execution_count": 0,
      "outputs": [
        {
          "output_type": "execute_result",
          "data": {
            "text/plain": [
              "[1, 3]"
            ]
          },
          "metadata": {
            "tags": []
          },
          "execution_count": 8
        }
      ]
    },
    {
      "metadata": {
        "colab_type": "text",
        "id": "xm6t0kBoh6Rc"
      },
      "cell_type": "markdown",
      "source": [
        "## Referencias\n",
        "\n",
        "\n",
        " *   [Documentación de SymPy](https://docs.sympy.org/latest/index.html#)\n"
      ]
    },
    {
      "metadata": {
        "colab_type": "code",
        "id": "xEAgD1TObj74",
        "colab": {}
      },
      "cell_type": "code",
      "source": [
        "!jupyter nbconvert inecuaciones.ipynb --to=markdown"
      ],
      "execution_count": 0,
      "outputs": []
    }
  ]
}