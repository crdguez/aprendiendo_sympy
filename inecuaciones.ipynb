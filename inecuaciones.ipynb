{
 "cells": [
  {
   "cell_type": "markdown",
   "metadata": {
    "colab_type": "text",
    "id": "view-in-github"
   },
   "source": [
    "<a href=\"https://colab.research.google.com/github/crdguez/aprendiendo_sympy/blob/master/inecuaciones.ipynb\" target=\"_parent\"><img src=\"https://colab.research.google.com/assets/colab-badge.svg\" alt=\"Open In Colab\"/></a>"
   ]
  },
  {
   "cell_type": "markdown",
   "metadata": {
    "colab_type": "text",
    "id": "j8BLxT72aKUF"
   },
   "source": [
    "Lo primero que necesitamos hacer es importar la librerias de *Python* que necesitaremos"
   ]
  },
  {
   "cell_type": "code",
   "execution_count": 22,
   "metadata": {
    "colab": {},
    "colab_type": "code",
    "id": "iW7rNRG2PMFC"
   },
   "outputs": [],
   "source": [
    "from sympy import *\n",
    "from IPython.display import Markdown as md\n",
    "from IPython.display import display\n",
    "from sympy import solve_poly_inequality, reduce_abs_inequality\n",
    "from sympy.solvers.inequalities import solve_univariate_inequality, reduce_rational_inequalities\n",
    "\n",
    "from __future__ import division\n",
    "from sympy import *\n",
    "x, y, z, t = symbols('x y z t')\n",
    "k, m, n = symbols('k m n', integer=True)\n",
    "f, g, h = symbols('f g h', cls=Function)\n",
    "init_printing(use_latex=False)"
   ]
  },
  {
   "cell_type": "markdown",
   "metadata": {
    "colab_type": "text",
    "id": "KWNz6e-cRWks"
   },
   "source": [
    "## Resolviendo inecuaciones\n",
    "\n",
    "### Inecuaciones polinómicas\n",
    "\n",
    "Son del siguiente tipo o similar: $$P(X) \\leq 0$$\n",
    "\n",
    "Podemos utilizar *solve_univariate_inequality*. Hay que pasar los parámetros:\n",
    "\n",
    "* inecuación\n",
    "* incognita\n",
    "* Cómo se quiere la solución\n",
    "    - Notación de desigualdad. Por defecto\n",
    "    - Notación de conjuntos de números (intervalos): *relational = False*\n"
   ]
  },
  {
   "cell_type": "markdown",
   "metadata": {},
   "source": [
    "\n",
    "#### Ejemplo:\n",
    "\n",
    "Resolver $5x - 3 \\leqslant 7 - 2x$\n"
   ]
  },
  {
   "cell_type": "code",
   "execution_count": 20,
   "metadata": {},
   "outputs": [
    {
     "data": {
      "text/plain": [
       "(-∞, 10/7]"
      ]
     },
     "execution_count": 20,
     "metadata": {},
     "output_type": "execute_result"
    }
   ],
   "source": [
    "solve_univariate_inequality(5*x-3<=7-2*x,x, relational=False)"
   ]
  },
  {
   "cell_type": "markdown",
   "metadata": {},
   "source": [
    "Algunas inecuaciones dan errores por lo que se puede utilizar"
   ]
  },
  {
   "cell_type": "code",
   "execution_count": 26,
   "metadata": {},
   "outputs": [
    {
     "data": {
      "text/plain": [
       "(20.0, ∞)"
      ]
     },
     "execution_count": 26,
     "metadata": {},
     "output_type": "execute_result"
    }
   ],
   "source": [
    "reduce_rational_inequalities([[3*(x - 2*(x*((x - 1)/4) - 5)) < (3/2)*(-x + 4)*x]],x).as_set()"
   ]
  },
  {
   "cell_type": "markdown",
   "metadata": {
    "colab_type": "text",
    "id": "dQwu3W1eDRU-"
   },
   "source": [
    "### Inecuaciones con  valores absolutos\n",
    "Para poder resolver inecuaciones con valores absolutos hay que utilizar la función *reduce_abs_inequality*.\n",
    "\n",
    "La función recibe tres parámetros. Resuelve inecuaciones con el miembro de la derecha igual a 0. Por lo tanto hay que pasar:\n",
    "\n",
    "\n",
    "*   La expresión algebraica del miembro de la izquierda\n",
    "*   El símbolo de la desigualdad\n",
    "*   La variable, normalmente x\n",
    "\n",
    "#### Ejemplo:\n",
    "\n",
    "Resuelve la inecuación $$\\lvert x-2 \\rvert \\leq 1 $$\n",
    "\n",
    "\n",
    "La inecuación anterior es equivalente a $\\lvert x-2 \\rvert -1 \\leq 0$  y se resuelve con el siguiente código:\n",
    "\n",
    "\n"
   ]
  },
  {
   "cell_type": "code",
   "execution_count": 8,
   "metadata": {
    "colab": {
     "base_uri": "https://localhost:8080/",
     "height": 35
    },
    "colab_type": "code",
    "id": "vVCmOj56PbAa",
    "outputId": "6b215b25-b0ee-4a24-ac14-f6c65b618d01"
   },
   "outputs": [
    {
     "data": {
      "text/plain": [
       "[1, 3]"
      ]
     },
     "execution_count": 8,
     "metadata": {
      "tags": []
     },
     "output_type": "execute_result"
    }
   ],
   "source": [
    "reduce_abs_inequality(Abs(x-2)-1,'<=',x).as_set()"
   ]
  },
  {
   "cell_type": "markdown",
   "metadata": {
    "colab_type": "text",
    "id": "xm6t0kBoh6Rc"
   },
   "source": [
    "## Referencias\n",
    "\n",
    "\n",
    " *   [Documentación de SymPy](https://docs.sympy.org/latest/index.html#)\n"
   ]
  },
  {
   "cell_type": "code",
   "execution_count": 0,
   "metadata": {
    "colab": {},
    "colab_type": "code",
    "id": "xEAgD1TObj74"
   },
   "outputs": [],
   "source": [
    "!jupyter nbconvert inecuaciones.ipynb --to=markdown"
   ]
  }
 ],
 "metadata": {
  "colab": {
   "collapsed_sections": [],
   "include_colab_link": true,
   "name": "inecuaciones.ipynb",
   "provenance": [],
   "version": "0.3.2"
  },
  "kernelspec": {
   "display_name": "Python 3",
   "language": "python",
   "name": "python3"
  },
  "language_info": {
   "codemirror_mode": {
    "name": "ipython",
    "version": 3
   },
   "file_extension": ".py",
   "mimetype": "text/x-python",
   "name": "python",
   "nbconvert_exporter": "python",
   "pygments_lexer": "ipython3",
   "version": "3.6.5"
  }
 },
 "nbformat": 4,
 "nbformat_minor": 1
}
