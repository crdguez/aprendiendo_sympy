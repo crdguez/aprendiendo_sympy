{
 "cells": [
  {
   "cell_type": "markdown",
   "metadata": {},
   "source": [
    "## Probando SymPy sin instalar nada: SymPy \n",
    "\n",
    "SymPy Gamma es una interfaz web que implementa \n",
    "\n",
    "## Instalación en local de SymPy\n",
    "\n",
    "Existen varias formas, pero la más recomendada es mediante [Anaconda](https://www.anaconda.com/download/):\n",
    "\n",
    "<img src=\"./img/anaconda.png\" width=\"600%\">\n",
    "\n",
    "En función del sistema operativo descargará un ejecutable u otro"
   ]
  }
 ],
 "metadata": {
  "kernelspec": {
   "display_name": "Python 3",
   "language": "python",
   "name": "python3"
  },
  "language_info": {
   "codemirror_mode": {
    "name": "ipython",
    "version": 3
   },
   "file_extension": ".py",
   "mimetype": "text/x-python",
   "name": "python",
   "nbconvert_exporter": "python",
   "pygments_lexer": "ipython3",
   "version": "3.6.5"
  }
 },
 "nbformat": 4,
 "nbformat_minor": 2
}
