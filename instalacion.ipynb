{
 "cells": [
  {
   "cell_type": "markdown",
   "metadata": {},
   "source": [
    "## Probando SymPy sin instalar nada: SymPy \n",
    "\n",
    "SymPy Gamma es una interfaz web que implementa \n",
    "\n",
    "## Instalación en local de SymPy\n",
    "\n",
    "Existen varias formas, pero la más recomendada es mediante la distribución [Anaconda](https://www.anaconda.com/download/):\n",
    "\n",
    "<img src=\"./img/anaconda.png\" width=\"600%\">\n",
    "\n",
    "En función del sistema operativo descargará un ejecutable u otro. En cualquier caso, el ejecutable es un script para instalar librerías y programas de Python para Data Science, entre los que se encuentra SymP.\n",
    "\n",
    "Por ejemplo en GNU-Linux ejecutaremos el instalador:"
   ]
  },
  {
   "cell_type": "code",
   "execution_count": null,
   "metadata": {},
   "outputs": [],
   "source": [
    "$ sh Anaconda3-2018.12-Linux-x86.sh"
   ]
  },
  {
   "cell_type": "markdown",
   "metadata": {},
   "source": [
    "Al ejecutarlo nos pedirá, en primer lugar, que aceptemos la licencia:\n",
    "\n",
    "<img src=\"./img/anaconda_1.png\" width=\"80%\">\n",
    "\n",
    "Con la barra espaciadora podremos ir pasando las páginas de la licencia hasta llegar al final que nos pedirá aceptarla. Para ello deberemos escibir yes:\n",
    "\n",
    "<img src=\"./img/anaconda_2.png\" width=\"40%\">\n",
    "\n",
    "El resto de opciones, se pudene modificar o dejarlas por defecto pulsando ENTER."
   ]
  }
 ],
 "metadata": {},
 "nbformat": 4,
 "nbformat_minor": 2
}
