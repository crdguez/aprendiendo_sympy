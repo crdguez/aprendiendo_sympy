{
 "cells": [
  {
   "cell_type": "markdown",
   "metadata": {},
   "source": [
    "<a href=\"https://colab.research.google.com/github/crdguez/aprendiendo_sympy/blob/master/inecuaciones.ipynb\" target=\"_parent\"><img src=\"https://colab.research.google.com/assets/colab-badge.svg\" alt=\"Open In Colab\"/></a>\n",
    "\n",
    "Si usas [https://colab.research.google.com/](https://colab.research.google.com/) , necesitarás instalar los siguientes paquetes si quieres usar la función *parse_latex* que sirve para introducir expresiones directamente en $ \\LaTeX $:"
   ]
  },
  {
   "cell_type": "code",
   "execution_count": null,
   "metadata": {},
   "outputs": [],
   "source": [
    "!pip install sympy==1.3 antlr4-python3-runtime"
   ]
  },
  {
   "cell_type": "markdown",
   "metadata": {},
   "source": [
    "Lo primero que necesitamos hacer es importar la librerias de *Python* que necesitaremos"
   ]
  },
  {
   "cell_type": "code",
   "execution_count": null,
   "metadata": {},
   "outputs": [],
   "source": [
    "from sympy import *\n",
    "from IPython.display import Markdown as md\n",
    "from IPython.display import display\n",
    "from sympy import solve_poly_inequality, reduce_abs_inequality\n",
    "from sympy.solvers.inequalities import solve_univariate_inequality, reduce_rational_inequalities\n",
    "from sympy.parsing.latex import parse_latex\n",
    "\n",
    "from __future__ import division\n",
    "from sympy import *\n",
    "x, y, z, t = symbols('x y z t')\n",
    "k, m, n = symbols('k m n', integer=True)\n",
    "f, g, h = symbols('f g h', cls=Function)\n",
    "init_printing(use_latex=False)"
   ]
  },
  {
   "cell_type": "markdown",
   "metadata": {},
   "source": [
    "## Medidas de ángulos\n",
    "\n",
    "Por defecto, las funciones de SymPy trabajan en radianes. Por tanto es necesario pasar el ángulo a operar en radianes. \n",
    "\n",
    "Las funciones que permiten pasar de grados a radianes y viceversa son:\n",
    "\n",
    "* rad(), pasa a radianes el ángulo en grados que pasemos por parámetro\n",
    "* deg(), pasa a grados el ángulo en radianes\n",
    "\n",
    "### Ejemplos\n",
    "\n",
    "\n",
    "\n",
    "## Funciones trigonométricas\n",
    "\n",
    "### Seno\n",
    "\n",
    "Se utiliza la función *sin()*\n",
    "\n",
    "#### Ejemplos\n",
    "\n",
    "* Calcula el $\\sin(\\frac{\\pi}{6})$\n",
    "\n",
    "En SymPy:"
   ]
  },
  {
   "cell_type": "code",
   "execution_count": null,
   "metadata": {},
   "outputs": [],
   "source": [
    "sin(pi/6)"
   ]
  },
  {
   "cell_type": "code",
   "execution_count": null,
   "metadata": {},
   "outputs": [],
   "source": [
    "1/2\n",
    "\n"
   ]
  },
  {
   "cell_type": "markdown",
   "metadata": {},
   "source": [
    "* Calcula el $\\sin(30)$\n",
    "\n",
    "En SymPy:"
   ]
  },
  {
   "cell_type": "code",
   "execution_count": null,
   "metadata": {},
   "outputs": [],
   "source": [
    "sin(rad(30))"
   ]
  },
  {
   "cell_type": "code",
   "execution_count": null,
   "metadata": {},
   "outputs": [],
   "source": [
    "1/2\n",
    "\n"
   ]
  },
  {
   "cell_type": "markdown",
   "metadata": {},
   "source": [
    "### Coseno\n",
    "\n",
    "Se utiliza la función *cos()*\n",
    "\n",
    "#### Ejemplos\n",
    "\n",
    "* Calcula el $\\cos(\\frac{\\pi}{3})$\n",
    "\n",
    "En SymPy:"
   ]
  },
  {
   "cell_type": "code",
   "execution_count": null,
   "metadata": {},
   "outputs": [],
   "source": [
    "cos(pi/3)"
   ]
  },
  {
   "cell_type": "code",
   "execution_count": null,
   "metadata": {},
   "outputs": [],
   "source": [
    "1/2\n",
    "\n"
   ]
  },
  {
   "cell_type": "markdown",
   "metadata": {},
   "source": [
    "* Calcula el $\\cos(60)$\n",
    "\n",
    "En SymPy:"
   ]
  },
  {
   "cell_type": "code",
   "execution_count": null,
   "metadata": {},
   "outputs": [],
   "source": [
    "cos(rad(60))"
   ]
  },
  {
   "cell_type": "code",
   "execution_count": null,
   "metadata": {},
   "outputs": [],
   "source": [
    "1/2\n",
    "\n"
   ]
  },
  {
   "cell_type": "markdown",
   "metadata": {},
   "source": [
    "### Tangente\n",
    "\n",
    "Se utiliza la función *tan()*\n",
    "\n",
    "#### Ejemplos\n",
    "\n",
    "* Calcula la $\\tan(\\frac{\\pi}{4})$\n",
    "\n",
    "En SymPy:"
   ]
  },
  {
   "cell_type": "code",
   "execution_count": null,
   "metadata": {},
   "outputs": [],
   "source": [
    "tan(pi/4)"
   ]
  },
  {
   "cell_type": "code",
   "execution_count": null,
   "metadata": {},
   "outputs": [],
   "source": [
    "1\n",
    "\n"
   ]
  },
  {
   "cell_type": "markdown",
   "metadata": {},
   "source": [
    "* Calcula la $\\tan(45)$\n",
    "\n",
    "En SymPy:"
   ]
  },
  {
   "cell_type": "code",
   "execution_count": null,
   "metadata": {},
   "outputs": [],
   "source": [
    "tan(rad(45))"
   ]
  },
  {
   "cell_type": "code",
   "execution_count": null,
   "metadata": {},
   "outputs": [],
   "source": [
    "1\n",
    "\n"
   ]
  },
  {
   "cell_type": "markdown",
   "metadata": {},
   "source": [
    "### Secante, cosecante y cotangente\n",
    "\n",
    "Funcionan de la misma forma que la anteriores pero con las siguientes funciones: \n",
    "\n",
    "* *sec()*\n",
    "* *csc()*\n",
    "* *cot()*\n",
    "\n",
    "#### Ejemplos\n",
    "\n",
    "Calcula la $\\cot(30)$"
   ]
  },
  {
   "cell_type": "code",
   "execution_count": null,
   "metadata": {},
   "outputs": [],
   "source": [
    "cot(rad(30))"
   ]
  },
  {
   "cell_type": "markdown",
   "metadata": {},
   "source": [
    "## Funciones trigonométricas inversas\n",
    "\n",
    "### Arcoseno, arcocoseno, arcotangente, arcosecante, arcocosecante y arcocotangente\n",
    "\n",
    "Las funciones se nombran igual que las trigonométricas pero con una \"a\" antes:\n",
    "\n",
    "* *asin()*\n",
    "* *acos()*\n",
    "* *atan()*\n",
    "* *asec()*\n",
    "* *acsc()*\n",
    "* *acot()*"
   ]
  },
  {
   "cell_type": "code",
   "execution_count": null,
   "metadata": {},
   "outputs": [],
   "source": [
    "!jupyter nbconvert trigonometria.ipynb --to=markdown"
   ]
  },
  {
   "cell_type": "code",
   "execution_count": null,
   "metadata": {},
   "outputs": [],
   "source": [
    "[NbConvertApp] Converting notebook trigonometria.ipynb to markdown\n",
    "[NbConvertApp] Writing 1925 bytes to trigonometria.md"
   ]
  }
 ],
 "metadata": {},
 "nbformat": 4,
 "nbformat_minor": 2
}
