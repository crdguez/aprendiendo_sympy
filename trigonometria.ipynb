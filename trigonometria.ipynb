{
 "cells": [
  {
   "cell_type": "markdown",
   "metadata": {},
   "source": [
    "<a href=\"https://colab.research.google.com/github/crdguez/aprendiendo_sympy/blob/master/trigonometria.ipynb\" target=\"_parent\"><img src=\"https://colab.research.google.com/assets/colab-badge.svg\" alt=\"Open In Colab\"/></a>\n",
    "\n",
    "Si usas [https://colab.research.google.com/](https://colab.research.google.com/) , necesitarás instalar los siguientes paquetes si quieres usar la función *parse_latex* que sirve para introducir expresiones directamente en $ \\LaTeX $:"
   ]
  },
  {
   "cell_type": "code",
   "execution_count": null,
   "metadata": {},
   "outputs": [],
   "source": [
    "!pip install sympy==1.3 antlr4-python3-runtime"
   ]
  },
  {
   "cell_type": "markdown",
   "metadata": {},
   "source": [
    "Lo primero que necesitamos hacer es importar la librerias de *Python* que necesitaremos"
   ]
  },
  {
   "cell_type": "code",
   "execution_count": 1,
   "metadata": {},
   "outputs": [],
   "source": [
    "from sympy import *\n",
    "from IPython.display import Markdown as md\n",
    "from IPython.display import display\n",
    "from sympy import solve_poly_inequality, reduce_abs_inequality\n",
    "from sympy.solvers.inequalities import solve_univariate_inequality, reduce_rational_inequalities\n",
    "from sympy.parsing.latex import parse_latex\n",
    "\n",
    "from __future__ import division\n",
    "from sympy import *\n",
    "x, y, z, t = symbols('x y z t')\n",
    "k, m, n = symbols('k m n', integer=True)\n",
    "f, g, h = symbols('f g h', cls=Function)\n",
    "init_printing(use_latex=False)"
   ]
  },
  {
   "cell_type": "markdown",
   "metadata": {},
   "source": [
    "## Medidas de ángulos\n",
    "\n",
    "Por defecto, las funciones de SymPy trabajan en radianes. Por tanto es necesario pasar el ángulo a operar en radianes. \n",
    "\n",
    "Las funciones que permiten pasar de grados a radianes y viceversa son:\n",
    "\n",
    "* rad(), pasa a radianes el ángulo en grados que pasemos por parámetro\n",
    "* deg(), pasa a grados el ángulo en radianes\n",
    "\n",
    "#### Ejemplos\n",
    "\n",
    "* Pasa a radianes los siguientes ángulos: 30º, 45º, 270ª\n",
    "\n"
   ]
  },
  {
   "cell_type": "code",
   "execution_count": 44,
   "metadata": {},
   "outputs": [
    {
     "data": {
      "text/plain": [
       "⎛π  π  3⋅π⎞\n",
       "⎜─, ─, ───⎟\n",
       "⎝6  4   2 ⎠"
      ]
     },
     "execution_count": 44,
     "metadata": {},
     "output_type": "execute_result"
    }
   ],
   "source": [
    "rad(30),rad(45), rad(270)"
   ]
  },
  {
   "cell_type": "markdown",
   "metadata": {},
   "source": [
    "* Pasa a grados los siguientes ángulos en radianes: $\\frac{\\pi}{6}$, $\\frac{\\pi}{4}$, $\\frac{3 \\pi}{2}$ "
   ]
  },
  {
   "cell_type": "code",
   "execution_count": 45,
   "metadata": {},
   "outputs": [
    {
     "data": {
      "text/plain": [
       "(30, 45, 270)"
      ]
     },
     "execution_count": 45,
     "metadata": {},
     "output_type": "execute_result"
    }
   ],
   "source": [
    "deg(pi/6), deg(pi/4), deg(3*pi/2)"
   ]
  },
  {
   "cell_type": "markdown",
   "metadata": {},
   "source": [
    "## Funciones trigonométricas\n",
    "\n",
    "### Seno\n",
    "\n",
    "Se utiliza la función *sin()*\n",
    "\n",
    "#### Ejemplos\n",
    "\n",
    "* Calcula el $\\sin(\\frac{\\pi}{6})$\n",
    "\n",
    "En SymPy:"
   ]
  },
  {
   "cell_type": "code",
   "execution_count": 5,
   "metadata": {},
   "outputs": [
    {
     "data": {
      "text/plain": [
       "1/2"
      ]
     },
     "execution_count": 5,
     "metadata": {},
     "output_type": "execute_result"
    }
   ],
   "source": [
    "sin(pi/6)"
   ]
  },
  {
   "cell_type": "markdown",
   "metadata": {},
   "source": [
    "* Calcula el $\\sin(30)$\n",
    "\n",
    "En SymPy:"
   ]
  },
  {
   "cell_type": "code",
   "execution_count": 6,
   "metadata": {},
   "outputs": [
    {
     "data": {
      "text/plain": [
       "1/2"
      ]
     },
     "execution_count": 6,
     "metadata": {},
     "output_type": "execute_result"
    }
   ],
   "source": [
    "sin(rad(30))"
   ]
  },
  {
   "cell_type": "markdown",
   "metadata": {},
   "source": [
    "### Coseno\n",
    "\n",
    "Se utiliza la función *cos()*\n",
    "\n",
    "#### Ejemplos\n",
    "\n",
    "* Calcula el $\\cos(\\frac{\\pi}{3})$\n",
    "\n",
    "En SymPy:"
   ]
  },
  {
   "cell_type": "code",
   "execution_count": 7,
   "metadata": {},
   "outputs": [
    {
     "data": {
      "text/plain": [
       "1/2"
      ]
     },
     "execution_count": 7,
     "metadata": {},
     "output_type": "execute_result"
    }
   ],
   "source": [
    "cos(pi/3)"
   ]
  },
  {
   "cell_type": "markdown",
   "metadata": {},
   "source": [
    "* Calcula el $\\cos(60)$\n",
    "\n",
    "En SymPy:"
   ]
  },
  {
   "cell_type": "code",
   "execution_count": 8,
   "metadata": {},
   "outputs": [
    {
     "data": {
      "text/plain": [
       "1/2"
      ]
     },
     "execution_count": 8,
     "metadata": {},
     "output_type": "execute_result"
    }
   ],
   "source": [
    "cos(rad(60))"
   ]
  },
  {
   "cell_type": "markdown",
   "metadata": {},
   "source": [
    "### Tangente\n",
    "\n",
    "Se utiliza la función *tan()*\n",
    "\n",
    "#### Ejemplos\n",
    "\n",
    "* Calcula la $\\tan(\\frac{\\pi}{4})$\n",
    "\n",
    "En SymPy:"
   ]
  },
  {
   "cell_type": "code",
   "execution_count": 9,
   "metadata": {},
   "outputs": [
    {
     "data": {
      "text/plain": [
       "1"
      ]
     },
     "execution_count": 9,
     "metadata": {},
     "output_type": "execute_result"
    }
   ],
   "source": [
    "tan(pi/4)"
   ]
  },
  {
   "cell_type": "markdown",
   "metadata": {},
   "source": [
    "* Calcula la $\\tan(45)$\n",
    "\n",
    "En SymPy:"
   ]
  },
  {
   "cell_type": "code",
   "execution_count": 10,
   "metadata": {},
   "outputs": [
    {
     "data": {
      "text/plain": [
       "1"
      ]
     },
     "execution_count": 10,
     "metadata": {},
     "output_type": "execute_result"
    }
   ],
   "source": [
    "tan(rad(45))"
   ]
  },
  {
   "cell_type": "markdown",
   "metadata": {},
   "source": [
    "### Secante, cosecante y cotangente\n",
    "\n",
    "Funcionan de la misma forma que la anteriores pero con las siguientes funciones: \n",
    "\n",
    "* *sec()*\n",
    "* *csc()*\n",
    "* *cot()*\n",
    "\n",
    "#### Ejemplos\n",
    "\n",
    "Calcula la $\\cot(30)$"
   ]
  },
  {
   "cell_type": "code",
   "execution_count": 11,
   "metadata": {},
   "outputs": [
    {
     "data": {
      "text/plain": [
       "√3"
      ]
     },
     "execution_count": 11,
     "metadata": {},
     "output_type": "execute_result"
    }
   ],
   "source": [
    "cot(rad(30))"
   ]
  },
  {
   "cell_type": "markdown",
   "metadata": {},
   "source": [
    "## Funciones trigonométricas inversas\n",
    "\n",
    "### Arcoseno, arcocoseno, arcotangente, arcosecante, arcocosecante y arcocotangente\n",
    "\n",
    "Las funciones se nombran igual que las trigonométricas pero con una \"a\" antes:\n",
    "\n",
    "* *asin()*\n",
    "* *acos()*\n",
    "* *atan()*\n",
    "* *asec()*\n",
    "* *acsc()*\n",
    "* *acot()*\n",
    "\n",
    "#### Ejemploss\n",
    "\n",
    "Calcula el $\\arccos{\\frac{1}{2}}$"
   ]
  },
  {
   "cell_type": "code",
   "execution_count": 26,
   "metadata": {},
   "outputs": [
    {
     "data": {
      "text/plain": [
       "60.0"
      ]
     },
     "execution_count": 26,
     "metadata": {},
     "output_type": "execute_result"
    }
   ],
   "source": [
    "float(deg(acos(1/2)))"
   ]
  },
  {
   "cell_type": "code",
   "execution_count": 29,
   "metadata": {},
   "outputs": [
    {
     "name": "stdout",
     "output_type": "stream",
     "text": [
      "[NbConvertApp] Converting notebook trigonometria.ipynb to markdown\n",
      "[NbConvertApp] Writing 3115 bytes to trigonometria.md\n"
     ]
    }
   ],
   "source": [
    "!jupyter nbconvert trigonometria.ipynb --to=markdown"
   ]
  }
 ],
 "metadata": {
  "kernelspec": {
   "display_name": "Python 3",
   "language": "python",
   "name": "python3"
  },
  "language_info": {
   "codemirror_mode": {
    "name": "ipython",
    "version": 3
   },
   "file_extension": ".py",
   "mimetype": "text/x-python",
   "name": "python",
   "nbconvert_exporter": "python",
   "pygments_lexer": "ipython3",
   "version": "3.6.5"
  }
 },
 "nbformat": 4,
 "nbformat_minor": 2
}
