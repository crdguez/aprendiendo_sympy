{
 "cells": [
  {
   "cell_type": "markdown",
   "metadata": {},
   "source": [
    "## Medidas de ángulos\n",
    "\n",
    "Por defecto, las funciones de simpy trabajan en radianes. Por tanto es necesario pasar el ángulo a operar en radianes. \n",
    "\n",
    "Las funciones que permiten pasar de grados a radianes y viceversa son:\n",
    "\n",
    "* rad(), pasa a radianes el ángulo en grados que pasemos por parámetro\n",
    "* deg(), pasa a grados el ángulo en radianes\n",
    "\n",
    "### Ejemplos\n",
    "\n",
    "## Funciones trigonométricas\n",
    "\n",
    "### Seno\n",
    "\n",
    "Se utiliza la función *sin()*\n",
    "\n",
    "#### Ejemplo\n",
    "\n",
    "$\\sin(\\frac{\\pi}{6})=\\frac{1}{2}$\n",
    "\n",
    "En simpy:"
   ]
  },
  {
   "cell_type": "code",
   "execution_count": null,
   "metadata": {},
   "outputs": [],
   "source": [
    "sin(pi/6)"
   ]
  },
  {
   "cell_type": "markdown",
   "metadata": {},
   "source": [
    "$\\sin(30)=\\frac{1}{2}$\n",
    "\n",
    "En simpy:"
   ]
  },
  {
   "cell_type": "code",
   "execution_count": null,
   "metadata": {},
   "outputs": [],
   "source": [
    "sin(rad(30))"
   ]
  },
  {
   "cell_type": "markdown",
   "metadata": {},
   "source": [
    "### Coseno\n",
    "\n",
    "Se utiliza la función *cos()*\n",
    "\n",
    "#### Ejemplo\n",
    "\n",
    "$\\cos(\\frac{\\pi}{3})=\\frac{1}{2}$\n",
    "\n",
    "En simpy:"
   ]
  },
  {
   "cell_type": "code",
   "execution_count": null,
   "metadata": {},
   "outputs": [],
   "source": [
    "cos(pi/3)"
   ]
  },
  {
   "cell_type": "markdown",
   "metadata": {},
   "source": [
    "$\\cos(60)=\\frac{1}{2}$\n",
    "\n",
    "En simpy:"
   ]
  },
  {
   "cell_type": "code",
   "execution_count": null,
   "metadata": {},
   "outputs": [],
   "source": [
    "cos(rad(60))"
   ]
  },
  {
   "cell_type": "markdown",
   "metadata": {},
   "source": [
    "### Tangente\n",
    "\n",
    "Se utiliza la función *tan()*\n",
    "\n",
    "#### Ejemplo\n",
    "\n",
    "$\\tan(\\frac{\\pi}{4})=1$\n",
    "\n",
    "En simpy:"
   ]
  },
  {
   "cell_type": "code",
   "execution_count": null,
   "metadata": {},
   "outputs": [],
   "source": [
    "tan(pi/4)"
   ]
  },
  {
   "cell_type": "markdown",
   "metadata": {},
   "source": [
    "$\\tan(45)=1$\n",
    "\n",
    "En simpy:"
   ]
  },
  {
   "cell_type": "code",
   "execution_count": null,
   "metadata": {},
   "outputs": [],
   "source": [
    "tan(rad(45))"
   ]
  },
  {
   "cell_type": "markdown",
   "metadata": {},
   "source": [
    "### Secante\n",
    "\n",
    "### Cosecante\n",
    "\n",
    "### Cotangente\n",
    "\n",
    "## Funciones trigonométricas inversas\n",
    "\n",
    "### Arcoseno\n",
    "\n",
    "### Arcocoseno\n",
    "\n",
    "### Arcotangente\n",
    "\n",
    "### Arcosecante\n",
    "\n",
    "### Arcocosecante\n",
    "\n",
    "### Arcocotangente"
   ]
  }
 ],
 "metadata": {},
 "nbformat": 4,
 "nbformat_minor": 2
}
